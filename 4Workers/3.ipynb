{
 "cells": [
  {
   "cell_type": "code",
   "execution_count": 1,
   "metadata": {},
   "outputs": [],
   "source": [
    "import tensorflow as tf"
   ]
  },
  {
   "cell_type": "code",
   "execution_count": null,
   "metadata": {},
   "outputs": [],
   "source": [
    "# Define your list of IP address / port number combos\n",
    "IP_ADDRESS1='localhost'\n",
    "PORT1='2222'\n",
    "IP_ADDRESS2='localhost'\n",
    "PORT2='2224'\n",
    "IP_ADDRESS3='localhost'\n",
    "PORT3='2226'\n",
    "IP_ADDRESS4='localhost'\n",
    "PORT4='2228'\n",
    "\n",
    "# Define cluster\n",
    "cluster_spec = tf.train.ClusterSpec({'worker' : [(IP_ADDRESS1 + \":\" + PORT1),\n",
    "                                                 (IP_ADDRESS2 + \":\" + PORT2),\n",
    "                                                 (IP_ADDRESS3 + \":\" + PORT3),\n",
    "                                                 (IP_ADDRESS4 + \":\" + PORT4)]})\n",
    "\n",
    "# Task index (integer) should correspond to the IP address of the machine that you are running this notebook on...\n",
    "\n",
    "# For example, if you are running this notebook on (IP_ADDRESS2 + \":\" + PORT2), task_idx=1 because it is \n",
    "# responsible for the second task of the job:worker based on how you defined cluster_spec above\n",
    "\n",
    "# Define server for specific machine\n",
    "task_idx=3 #<--- This will be different for each non-chief machine you run this script on\n",
    "server = tf.train.Server(cluster_spec, job_name='worker', task_index=task_idx)\n",
    "\n",
    "# Server will run as long as the notebook is running\n",
    "server.join()\n",
    "\n",
    "\n",
    "\n"
   ]
  },
  {
   "cell_type": "code",
   "execution_count": null,
   "metadata": {},
   "outputs": [],
   "source": []
  },
  {
   "cell_type": "code",
   "execution_count": null,
   "metadata": {},
   "outputs": [],
   "source": []
  },
  {
   "cell_type": "code",
   "execution_count": null,
   "metadata": {},
   "outputs": [],
   "source": []
  }
 ],
 "metadata": {
  "kernelspec": {
   "display_name": "Python 3",
   "language": "python",
   "name": "python3"
  },
  "language_info": {
   "codemirror_mode": {
    "name": "ipython",
    "version": 3
   },
   "file_extension": ".py",
   "mimetype": "text/x-python",
   "name": "python",
   "nbconvert_exporter": "python",
   "pygments_lexer": "ipython3",
   "version": "3.7.6"
  }
 },
 "nbformat": 4,
 "nbformat_minor": 2
}
