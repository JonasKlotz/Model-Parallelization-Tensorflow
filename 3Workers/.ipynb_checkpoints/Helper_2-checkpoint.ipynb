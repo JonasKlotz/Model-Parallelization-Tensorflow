{
 "cells": [
  {
   "cell_type": "code",
   "execution_count": 1,
   "metadata": {},
   "outputs": [],
   "source": [
    "import tensorflow as tf"
   ]
  },
  {
   "cell_type": "code",
   "execution_count": null,
   "metadata": {},
   "outputs": [],
   "source": [
    "# Define  IP address/port\n",
    "IP_ADDRESS1='localhost'\n",
    "PORT1='2222'\n",
    "IP_ADDRESS2='localhost'\n",
    "PORT2='2224'\n",
    "IP_ADDRESS3='localhost'\n",
    "PORT3='2226'\n",
    "\n",
    "# Define cluster\n",
    "cluster_spec = tf.train.ClusterSpec({'worker' : [(IP_ADDRESS1 + \":\" + PORT1),\n",
    "                                                 (IP_ADDRESS2 + \":\" + PORT2),\n",
    "                                                 (IP_ADDRESS3 + \":\" + PORT3)]})\n",
    " task_idx=1 because it is \n",
    "\n",
    "# Define server for specific machine\n",
    "task_idx=2 \n",
    "server = tf.train.Server(cluster_spec, job_name='worker', task_index=task_idx)\n",
    "\n",
    "# Server will run as long as the notebook is running\n",
    "server.join()\n",
    "\n",
    "\n",
    "\n"
   ]
  },
  {
   "cell_type": "code",
   "execution_count": null,
   "metadata": {},
   "outputs": [],
   "source": []
  },
  {
   "cell_type": "code",
   "execution_count": null,
   "metadata": {},
   "outputs": [],
   "source": []
  },
  {
   "cell_type": "code",
   "execution_count": null,
   "metadata": {},
   "outputs": [],
   "source": []
  }
 ],
 "metadata": {
  "kernelspec": {
   "display_name": "Python 3",
   "language": "python",
   "name": "python3"
  },
  "language_info": {
   "codemirror_mode": {
    "name": "ipython",
    "version": 3
   },
   "file_extension": ".py",
   "mimetype": "text/x-python",
   "name": "python",
   "nbconvert_exporter": "python",
   "pygments_lexer": "ipython3",
   "version": "3.7.6"
  }
 },
 "nbformat": 4,
 "nbformat_minor": 2
}
