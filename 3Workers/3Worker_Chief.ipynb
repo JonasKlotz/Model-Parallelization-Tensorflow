{
 "cells": [
  {
   "cell_type": "code",
   "execution_count": 1,
   "metadata": {},
   "outputs": [
    {
     "name": "stdout",
     "output_type": "stream",
     "text": [
      "WARNING:tensorflow:From <ipython-input-1-c09489d6cd86>:7: read_data_sets (from tensorflow.contrib.learn.python.learn.datasets.mnist) is deprecated and will be removed in a future version.\n",
      "Instructions for updating:\n",
      "Please use alternatives such as official/mnist/dataset.py from tensorflow/models.\n",
      "WARNING:tensorflow:From /home/joking/.pyenv/versions/3.7.6/envs/tf_model/lib/python3.7/site-packages/tensorflow_core/contrib/learn/python/learn/datasets/mnist.py:260: maybe_download (from tensorflow.contrib.learn.python.learn.datasets.base) is deprecated and will be removed in a future version.\n",
      "Instructions for updating:\n",
      "Please write your own downloading logic.\n",
      "WARNING:tensorflow:From /home/joking/.pyenv/versions/3.7.6/envs/tf_model/lib/python3.7/site-packages/tensorflow_core/contrib/learn/python/learn/datasets/mnist.py:262: extract_images (from tensorflow.contrib.learn.python.learn.datasets.mnist) is deprecated and will be removed in a future version.\n",
      "Instructions for updating:\n",
      "Please use tf.data to implement this functionality.\n",
      "Extracting /tmp/data/train-images-idx3-ubyte.gz\n",
      "WARNING:tensorflow:From /home/joking/.pyenv/versions/3.7.6/envs/tf_model/lib/python3.7/site-packages/tensorflow_core/contrib/learn/python/learn/datasets/mnist.py:267: extract_labels (from tensorflow.contrib.learn.python.learn.datasets.mnist) is deprecated and will be removed in a future version.\n",
      "Instructions for updating:\n",
      "Please use tf.data to implement this functionality.\n",
      "Extracting /tmp/data/train-labels-idx1-ubyte.gz\n",
      "WARNING:tensorflow:From /home/joking/.pyenv/versions/3.7.6/envs/tf_model/lib/python3.7/site-packages/tensorflow_core/contrib/learn/python/learn/datasets/mnist.py:110: dense_to_one_hot (from tensorflow.contrib.learn.python.learn.datasets.mnist) is deprecated and will be removed in a future version.\n",
      "Instructions for updating:\n",
      "Please use tf.one_hot on tensors.\n",
      "Extracting /tmp/data/t10k-images-idx3-ubyte.gz\n",
      "Extracting /tmp/data/t10k-labels-idx1-ubyte.gz\n",
      "WARNING:tensorflow:From /home/joking/.pyenv/versions/3.7.6/envs/tf_model/lib/python3.7/site-packages/tensorflow_core/contrib/learn/python/learn/datasets/mnist.py:290: DataSet.__init__ (from tensorflow.contrib.learn.python.learn.datasets.mnist) is deprecated and will be removed in a future version.\n",
      "Instructions for updating:\n",
      "Please use alternatives such as official/mnist/dataset.py from tensorflow/models.\n"
     ]
    }
   ],
   "source": [
    "from  __future__  import division, print_function, absolute_import\n",
    "\n",
    "import tensorflow as tf\n",
    "\n",
    "# Get data\n",
    "from tensorflow.examples.tutorials.mnist import input_data\n",
    "mnist = input_data.read_data_sets(\"/tmp/data/\", one_hot=True)"
   ]
  },
  {
   "cell_type": "code",
   "execution_count": 2,
   "metadata": {},
   "outputs": [
    {
     "data": {
      "text/plain": [
       "''"
      ]
     },
     "execution_count": 2,
     "metadata": {},
     "output_type": "execute_result"
    }
   ],
   "source": [
    "tf.test.gpu_device_name()"
   ]
  },
  {
   "cell_type": "code",
   "execution_count": 3,
   "metadata": {},
   "outputs": [],
   "source": [
    "# Some numbers\n",
    "batch_size = 128\n",
    "display_step = 10\n",
    "num_input = 784\n",
    "num_classes = 10"
   ]
  },
  {
   "cell_type": "code",
   "execution_count": 6,
   "metadata": {},
   "outputs": [],
   "source": [
    "def conv_layer(inputs, channels_in, channels_out, strides=1):       \n",
    "        \n",
    "        # Create variables\n",
    "        w=tf.Variable(tf.random_normal([3, 3, channels_in, channels_out]))\n",
    "        b=tf.Variable(tf.random_normal([channels_out]))\n",
    "        \n",
    "        # We can double check the device that this variable was placed on\n",
    "        #print(w.device) \n",
    "        #print(b.device)\n",
    "        \n",
    "        # Define Ops\n",
    "        x = tf.nn.conv2d(inputs, w, strides=[1, strides, strides, 1], padding='SAME')\n",
    "        x = tf.nn.bias_add(x, b)\n",
    "        \n",
    "        # Non-linear activation\n",
    "        return tf.nn.relu(x)\n",
    "\n",
    "    \n",
    "def maxpool2d(x, k=2):\n",
    "    return tf.nn.max_pool(x, ksize=[1, k, k, 1], strides=[1, k, k, 1], padding='SAME')\n",
    "\n",
    "def fc_layer(x, n_in, n_out, keep_rate=0.8):\n",
    "    w1=tf.Variable(tf.random_normal([n_in, n_out]))\n",
    "    b1=tf.Variable(tf.random_normal([n_out]))\n",
    "    fc1 = tf.add(tf.matmul(x,w1),b1)\n",
    "    fc1=tf.nn.relu(fc1)\n",
    "    fc1 = tf.nn.dropout(fc1, keep_rate)\n",
    "    return fc1\n",
    "    \n",
    "\n",
    "# Create model\n",
    "def CNN(x, devices):\n",
    "    \n",
    "    keep_rate= 0.8\n",
    "    with tf.device(devices[0]): # <----------- Put first half of network on device 0\n",
    "\n",
    "        x = tf.reshape(x, shape=[-1, 28, 28, 1])\n",
    "        print(\"X: \", x.shape)\n",
    "\n",
    "        # Convolution Layer\n",
    "        conv1=conv_layer(x, 1, 32, strides=1)\n",
    "        pool1=maxpool2d(conv1)\n",
    "        print(\"1: \", pool1.shape)        \n",
    "\n",
    "        # Convolution Layer\n",
    "        conv2=conv_layer(pool1, 32, 64, strides=1)\n",
    "        pool2=maxpool2d(conv2)\n",
    "        print(\"2: \", pool2.shape)\n",
    "        \n",
    "        # Fully connected layer\n",
    "        fc = tf.reshape(pool2, [-1, 7*7*64])\n",
    "        fc = fc_layer(fc, 7*7*64, 1024, keep_rate=0.8)\n",
    "        for i in range (3):\n",
    "            # Fully connected layer\n",
    "            fc = fc_layer(fc, 1024, 1024, keep_rate=0.8)\n",
    "        \n",
    "        \n",
    "        # Fully connected layer doenst work\n",
    "        #fully_connected1 = tf.contrib.layers.fully_connected(inputs=pool2, num_outputs=64, \n",
    "                                                             #activation_fn=tf.nn.relu,scope=\"Fully_Conn1\")\n",
    "\n",
    "    with tf.device(devices[1]):  # <----------- Put second half of network on device 1\n",
    "\n",
    "        for i in range (4):\n",
    "            # Fully connected layer\n",
    "            fc = fc_layer(fc, 1024, 1024, keep_rate=0.8)\n",
    "            \n",
    "    with tf.device(devices[2]):  # <----------- Put second half of network on device 1\n",
    "\n",
    "            for i in range (4):\n",
    "                # Fully connected layer\n",
    "                fc = fc_layer(fc, 1024, 1024, keep_rate=0.8)\n",
    "\n",
    "            # Output layer\n",
    "            w2=tf.Variable(tf.random_normal([1024, num_classes]))\n",
    "            b2=tf.Variable(tf.random_normal([num_classes]))\n",
    "            out = tf.add(tf.matmul(fc,w2),b2) #namechange\n",
    "        \n",
    "        # Check devices for good measure\n",
    "        ##print(w1.device)\n",
    "        #print(b1.device)\n",
    "        #print(w2.device)\n",
    "        #print(b2.device)\n",
    "\n",
    "    return out"
   ]
  },
  {
   "cell_type": "code",
   "execution_count": 7,
   "metadata": {},
   "outputs": [
    {
     "name": "stdout",
     "output_type": "stream",
     "text": [
      "X:  (?, 28, 28, 1)\n",
      "1:  (?, 14, 14, 32)\n",
      "2:  (?, 7, 7, 64)\n",
      "WARNING:tensorflow:From <ipython-input-6-d52e68ae35ae>:27: calling dropout (from tensorflow.python.ops.nn_ops) with keep_prob is deprecated and will be removed in a future version.\n",
      "Instructions for updating:\n",
      "Please use `rate` instead of `keep_prob`. Rate should be set to `rate = 1 - keep_prob`.\n",
      "WARNING:tensorflow:From <ipython-input-7-70a8c19b6f45>:21: softmax_cross_entropy_with_logits (from tensorflow.python.ops.nn_ops) is deprecated and will be removed in a future version.\n",
      "Instructions for updating:\n",
      "\n",
      "Future major versions of TensorFlow will allow gradients to flow\n",
      "into the labels input on backprop by default.\n",
      "\n",
      "See `tf.nn.softmax_cross_entropy_with_logits_v2`.\n",
      "\n"
     ]
    }
   ],
   "source": [
    "# Define devices that we wish to split our graph over\n",
    "device0='/job:worker/task:0'\n",
    "device1='/job:worker/task:1'\n",
    "device2='/job:worker/task:2'\n",
    "devices=(device0, device1, device2)\n",
    "\n",
    "tf.reset_default_graph() # Reset graph\n",
    "\n",
    "# Construct model\n",
    "with tf.device(devices[0]):\n",
    "    X = tf.placeholder(tf.float32, [None, num_input]) # Input images feedable\n",
    "    Y = tf.placeholder(tf.float32, [None, num_classes]) # Ground truth feedable\n",
    "    \n",
    "logits = CNN(X, devices) # Unscaled probabilities\n",
    "\n",
    "with tf.device(devices[1]):\n",
    "    \n",
    "    prediction = tf.nn.softmax(logits) # Class-wise probabilities\n",
    "    \n",
    "    # Define loss and optimizer\n",
    "    loss_op = tf.reduce_mean(tf.nn.softmax_cross_entropy_with_logits(logits=logits, labels=Y))\n",
    "    optimizer = tf.train.AdamOptimizer(learning_rate=0.001)\n",
    "    train_op = optimizer.minimize(loss_op)\n",
    "\n",
    "    # Evaluate model\n",
    "    correct_pred = tf.equal(tf.argmax(prediction, 1), tf.argmax(Y, 1))\n",
    "    accuracy = tf.reduce_mean(tf.cast(correct_pred, tf.float32))\n",
    "\n",
    "    init = tf.global_variables_initializer()"
   ]
  },
  {
   "cell_type": "code",
   "execution_count": null,
   "metadata": {},
   "outputs": [],
   "source": []
  },
  {
   "cell_type": "code",
   "execution_count": 9,
   "metadata": {},
   "outputs": [],
   "source": [
    "# Set up cluster\n",
    "IP_ADDRESS1='localhost'\n",
    "PORT1='2222'\n",
    "IP_ADDRESS2='localhost'\n",
    "PORT2='2224'\n",
    "IP_ADDRESS3='localhost'\n",
    "PORT3='2226'\n",
    "\n",
    "# This line should match the same cluster definition in the Helper_Server.ipynb\n",
    "# Define cluster\n",
    "cluster_spec = tf.train.ClusterSpec({'worker' : [(IP_ADDRESS1 + \":\" + PORT1),\n",
    "                                                 (IP_ADDRESS2 + \":\" + PORT2),\n",
    "                                                 (IP_ADDRESS3 + \":\" + PORT3)]})\n",
    "\n",
    "\n",
    "task_idx=0 # We have chosen this machine to be our chief (The first IPaddress:Port combo), so task_idx=0\n",
    "server = tf.train.Server(cluster_spec, job_name='worker', task_index=task_idx)"
   ]
  },
  {
   "cell_type": "code",
   "execution_count": 10,
   "metadata": {},
   "outputs": [
    {
     "data": {
      "text/plain": [
       "cluster {\n",
       "  job {\n",
       "    name: \"worker\"\n",
       "    tasks {\n",
       "      key: 0\n",
       "      value: \"localhost:2222\"\n",
       "    }\n",
       "    tasks {\n",
       "      key: 1\n",
       "      value: \"localhost:2224\"\n",
       "    }\n",
       "    tasks {\n",
       "      key: 2\n",
       "      value: \"localhost:2226\"\n",
       "    }\n",
       "  }\n",
       "}\n",
       "job_name: \"worker\"\n",
       "protocol: \"grpc\""
      ]
     },
     "execution_count": 10,
     "metadata": {},
     "output_type": "execute_result"
    }
   ],
   "source": [
    "# Check the server definition\n",
    "server.server_def"
   ]
  },
  {
   "cell_type": "code",
   "execution_count": 11,
   "metadata": {},
   "outputs": [],
   "source": [
    "import psutil\n",
    "import pandas as pd\n",
    "import time"
   ]
  },
  {
   "cell_type": "code",
   "execution_count": 12,
   "metadata": {},
   "outputs": [
    {
     "name": "stdout",
     "output_type": "stream",
     "text": [
      "CPU:  2.2\n",
      "RAM:  58.7\n"
     ]
    }
   ],
   "source": [
    "print(\"CPU: \", psutil.cpu_percent())\n",
    "print(\"RAM: \", psutil.virtual_memory().percent)"
   ]
  },
  {
   "cell_type": "code",
   "execution_count": null,
   "metadata": {},
   "outputs": [],
   "source": []
  },
  {
   "cell_type": "code",
   "execution_count": 13,
   "metadata": {},
   "outputs": [
    {
     "name": "stdout",
     "output_type": "stream",
     "text": [
      "Step 0, Minibatch Loss= 108225861907852034048.0000, Training Accuracy= 0.070\n",
      "Step 1, Minibatch Loss= 87182414416963436544.0000, Training Accuracy= 0.125\n",
      "Step 10, Minibatch Loss= 46825262331910422528.0000, Training Accuracy= 0.047\n",
      "Step 20, Minibatch Loss= 25380325971116163072.0000, Training Accuracy= 0.133\n",
      "Step 30, Minibatch Loss= 17305453203101319168.0000, Training Accuracy= 0.133\n",
      "Step 40, Minibatch Loss= 14558337694754144256.0000, Training Accuracy= 0.070\n",
      "Step 50, Minibatch Loss= 12005234311662927872.0000, Training Accuracy= 0.094\n",
      "Step 60, Minibatch Loss= 9621740492760809472.0000, Training Accuracy= 0.117\n",
      "Step 70, Minibatch Loss= 7745418402402926592.0000, Training Accuracy= 0.125\n",
      "Step 80, Minibatch Loss= 7555630600820883456.0000, Training Accuracy= 0.078\n",
      "Step 90, Minibatch Loss= 7535034549009383424.0000, Training Accuracy= 0.117\n",
      "Step 100, Minibatch Loss= 5669379920464183296.0000, Training Accuracy= 0.117\n",
      "Step 110, Minibatch Loss= 5211913814076817408.0000, Training Accuracy= 0.125\n",
      "Step 120, Minibatch Loss= 5257764548466704384.0000, Training Accuracy= 0.086\n",
      "Step 130, Minibatch Loss= 4721235859460849664.0000, Training Accuracy= 0.109\n",
      "Step 140, Minibatch Loss= 4423601360356769792.0000, Training Accuracy= 0.102\n",
      "Step 150, Minibatch Loss= 3335502113521270784.0000, Training Accuracy= 0.141\n",
      "Step 160, Minibatch Loss= 4091904815657910272.0000, Training Accuracy= 0.133\n",
      "Step 170, Minibatch Loss= 3735746886020104192.0000, Training Accuracy= 0.125\n",
      "Step 180, Minibatch Loss= 3010800112042508288.0000, Training Accuracy= 0.109\n",
      "Step 190, Minibatch Loss= 2999896530107760640.0000, Training Accuracy= 0.117\n",
      "Step 200, Minibatch Loss= 2711575994002571264.0000, Training Accuracy= 0.109\n",
      "Step 210, Minibatch Loss= 2800200754369921024.0000, Training Accuracy= 0.102\n",
      "Step 220, Minibatch Loss= 2663449820299001856.0000, Training Accuracy= 0.125\n",
      "Step 230, Minibatch Loss= 2497526368842022912.0000, Training Accuracy= 0.125\n",
      "Step 240, Minibatch Loss= 2519746949083561984.0000, Training Accuracy= 0.102\n",
      "Step 250, Minibatch Loss= 2415556677479694336.0000, Training Accuracy= 0.102\n",
      "Step 260, Minibatch Loss= 2138646873047564288.0000, Training Accuracy= 0.164\n",
      "Step 270, Minibatch Loss= 2104464156051636224.0000, Training Accuracy= 0.094\n",
      "Step 280, Minibatch Loss= 2118394143741837312.0000, Training Accuracy= 0.094\n",
      "Step 290, Minibatch Loss= 1846881841890459648.0000, Training Accuracy= 0.062\n",
      "Step 300, Minibatch Loss= 1724450947259695104.0000, Training Accuracy= 0.125\n",
      "Step 310, Minibatch Loss= 1753113291250466816.0000, Training Accuracy= 0.125\n",
      "Step 320, Minibatch Loss= 1824419781407670272.0000, Training Accuracy= 0.102\n",
      "Step 330, Minibatch Loss= 1749460988500901888.0000, Training Accuracy= 0.070\n",
      "Step 340, Minibatch Loss= 1692906783292522496.0000, Training Accuracy= 0.086\n",
      "Step 350, Minibatch Loss= 1522892323946496000.0000, Training Accuracy= 0.078\n",
      "Step 360, Minibatch Loss= 1492271612307701760.0000, Training Accuracy= 0.133\n",
      "Step 370, Minibatch Loss= 1440962902197534720.0000, Training Accuracy= 0.086\n",
      "Step 380, Minibatch Loss= 1273603900871540736.0000, Training Accuracy= 0.078\n",
      "Step 390, Minibatch Loss= 1226164647057424384.0000, Training Accuracy= 0.102\n",
      "Step 400, Minibatch Loss= 1392243541970780160.0000, Training Accuracy= 0.102\n",
      "Step 410, Minibatch Loss= 1126005872275750912.0000, Training Accuracy= 0.109\n",
      "Step 420, Minibatch Loss= 1265393435230076928.0000, Training Accuracy= 0.109\n",
      "Step 430, Minibatch Loss= 1147703428579852288.0000, Training Accuracy= 0.141\n",
      "Step 440, Minibatch Loss= 1080965134358151168.0000, Training Accuracy= 0.086\n",
      "Step 450, Minibatch Loss= 1165237271788519424.0000, Training Accuracy= 0.078\n",
      "Step 460, Minibatch Loss= 1078075961397739520.0000, Training Accuracy= 0.094\n",
      "Step 470, Minibatch Loss= 1053984699560493056.0000, Training Accuracy= 0.109\n",
      "Step 480, Minibatch Loss= 1000642855011614720.0000, Training Accuracy= 0.086\n",
      "Step 490, Minibatch Loss= 986146824991539200.0000, Training Accuracy= 0.086\n",
      "Step 500, Minibatch Loss= 926689428049494016.0000, Training Accuracy= 0.133\n",
      "Step 510, Minibatch Loss= 906130347316477952.0000, Training Accuracy= 0.102\n",
      "Step 520, Minibatch Loss= 887669134769258496.0000, Training Accuracy= 0.125\n",
      "Step 530, Minibatch Loss= 901362864898441216.0000, Training Accuracy= 0.094\n",
      "Step 540, Minibatch Loss= 798756164916477952.0000, Training Accuracy= 0.133\n",
      "Step 550, Minibatch Loss= 720937817143771136.0000, Training Accuracy= 0.125\n",
      "Step 560, Minibatch Loss= 815917204963852288.0000, Training Accuracy= 0.047\n",
      "Step 570, Minibatch Loss= 714880332708446208.0000, Training Accuracy= 0.109\n",
      "Step 580, Minibatch Loss= 773935102236295168.0000, Training Accuracy= 0.125\n",
      "Step 590, Minibatch Loss= 767781204375109632.0000, Training Accuracy= 0.109\n",
      "Step 600, Minibatch Loss= 809398200522768384.0000, Training Accuracy= 0.070\n",
      "Step 610, Minibatch Loss= 767194889799598080.0000, Training Accuracy= 0.109\n",
      "Step 620, Minibatch Loss= 733904701367517184.0000, Training Accuracy= 0.086\n",
      "Step 630, Minibatch Loss= 616196827653341184.0000, Training Accuracy= 0.102\n",
      "Step 640, Minibatch Loss= 638778941061988352.0000, Training Accuracy= 0.078\n",
      "Step 650, Minibatch Loss= 723676563169607680.0000, Training Accuracy= 0.094\n",
      "Step 660, Minibatch Loss= 617194497016594432.0000, Training Accuracy= 0.133\n",
      "Step 670, Minibatch Loss= 650713246428299264.0000, Training Accuracy= 0.086\n",
      "Step 680, Minibatch Loss= 612553389716275200.0000, Training Accuracy= 0.148\n",
      "Step 690, Minibatch Loss= 613467702354247680.0000, Training Accuracy= 0.094\n",
      "Step 700, Minibatch Loss= 566205504271941632.0000, Training Accuracy= 0.086\n",
      "Step 710, Minibatch Loss= 549756432363290624.0000, Training Accuracy= 0.102\n",
      "Step 720, Minibatch Loss= 622623816715075584.0000, Training Accuracy= 0.102\n",
      "Step 730, Minibatch Loss= 553289094503858176.0000, Training Accuracy= 0.094\n",
      "Step 740, Minibatch Loss= 506054830888845312.0000, Training Accuracy= 0.133\n",
      "Step 750, Minibatch Loss= 553808407589552128.0000, Training Accuracy= 0.086\n",
      "Step 760, Minibatch Loss= 518255836544368640.0000, Training Accuracy= 0.109\n",
      "Step 770, Minibatch Loss= 515192528429907968.0000, Training Accuracy= 0.102\n",
      "Step 780, Minibatch Loss= 450853093702107136.0000, Training Accuracy= 0.164\n",
      "Step 790, Minibatch Loss= 509306361650085888.0000, Training Accuracy= 0.102\n",
      "Step 800, Minibatch Loss= 476006277613355008.0000, Training Accuracy= 0.141\n",
      "Step 810, Minibatch Loss= 449023643792441344.0000, Training Accuracy= 0.117\n",
      "Step 820, Minibatch Loss= 452134437065326592.0000, Training Accuracy= 0.117\n",
      "Step 830, Minibatch Loss= 432995272520368128.0000, Training Accuracy= 0.117\n",
      "Step 840, Minibatch Loss= 426269456814047232.0000, Training Accuracy= 0.148\n",
      "Step 850, Minibatch Loss= 422253490593595392.0000, Training Accuracy= 0.117\n",
      "Step 860, Minibatch Loss= 435624445340549120.0000, Training Accuracy= 0.117\n",
      "Step 870, Minibatch Loss= 401544223444172800.0000, Training Accuracy= 0.062\n",
      "Step 880, Minibatch Loss= 386667762400886784.0000, Training Accuracy= 0.086\n",
      "Step 890, Minibatch Loss= 394610359522033664.0000, Training Accuracy= 0.094\n",
      "Step 900, Minibatch Loss= 426394801139613696.0000, Training Accuracy= 0.086\n",
      "Step 910, Minibatch Loss= 409713457399595008.0000, Training Accuracy= 0.078\n",
      "Step 920, Minibatch Loss= 347446086694076416.0000, Training Accuracy= 0.094\n",
      "Step 930, Minibatch Loss= 347884791833559040.0000, Training Accuracy= 0.133\n",
      "Step 940, Minibatch Loss= 391304265496264704.0000, Training Accuracy= 0.148\n",
      "Step 950, Minibatch Loss= 374754519554195456.0000, Training Accuracy= 0.070\n",
      "Step 960, Minibatch Loss= 325015877688754176.0000, Training Accuracy= 0.086\n",
      "Step 970, Minibatch Loss= 346163300221845504.0000, Training Accuracy= 0.102\n",
      "Step 980, Minibatch Loss= 341044523838734336.0000, Training Accuracy= 0.117\n",
      "Step 990, Minibatch Loss= 334084031119360000.0000, Training Accuracy= 0.094\n",
      "Step 1000, Minibatch Loss= 309935354159300608.0000, Training Accuracy= 0.070\n",
      "Step 1010, Minibatch Loss= 339228061910171648.0000, Training Accuracy= 0.094\n"
     ]
    },
    {
     "ename": "KeyboardInterrupt",
     "evalue": "",
     "output_type": "error",
     "traceback": [
      "\u001b[0;31m---------------------------------------------------------------------------\u001b[0m",
      "\u001b[0;31mKeyboardInterrupt\u001b[0m                         Traceback (most recent call last)",
      "\u001b[0;32m<ipython-input-13-a40167554ba7>\u001b[0m in \u001b[0;36m<module>\u001b[0;34m\u001b[0m\n\u001b[1;32m     20\u001b[0m \u001b[0;34m\u001b[0m\u001b[0m\n\u001b[1;32m     21\u001b[0m         \u001b[0;31m# Run optimization op (backprop)\u001b[0m\u001b[0;34m\u001b[0m\u001b[0;34m\u001b[0m\u001b[0;34m\u001b[0m\u001b[0m\n\u001b[0;32m---> 22\u001b[0;31m         \u001b[0msess\u001b[0m\u001b[0;34m.\u001b[0m\u001b[0mrun\u001b[0m\u001b[0;34m(\u001b[0m\u001b[0mtrain_op\u001b[0m\u001b[0;34m,\u001b[0m \u001b[0mfeed_dict\u001b[0m\u001b[0;34m=\u001b[0m\u001b[0;34m{\u001b[0m\u001b[0mX\u001b[0m\u001b[0;34m:\u001b[0m \u001b[0mbatch_x\u001b[0m\u001b[0;34m,\u001b[0m \u001b[0mY\u001b[0m\u001b[0;34m:\u001b[0m \u001b[0mbatch_y\u001b[0m\u001b[0;34m}\u001b[0m\u001b[0;34m)\u001b[0m\u001b[0;34m\u001b[0m\u001b[0;34m\u001b[0m\u001b[0m\n\u001b[0m\u001b[1;32m     23\u001b[0m        \u001b[0;31m# print(type(t_s))\u001b[0m\u001b[0;34m\u001b[0m\u001b[0;34m\u001b[0m\u001b[0;34m\u001b[0m\u001b[0m\n\u001b[1;32m     24\u001b[0m         \u001b[0;32mif\u001b[0m \u001b[0mstep\u001b[0m \u001b[0;34m%\u001b[0m \u001b[0mdisplay_step\u001b[0m \u001b[0;34m==\u001b[0m \u001b[0;36m0\u001b[0m \u001b[0;32mor\u001b[0m \u001b[0mstep\u001b[0m \u001b[0;34m==\u001b[0m \u001b[0;36m1\u001b[0m\u001b[0;34m:\u001b[0m\u001b[0;34m\u001b[0m\u001b[0;34m\u001b[0m\u001b[0m\n",
      "\u001b[0;32m~/.pyenv/versions/3.7.6/envs/tf_model/lib/python3.7/site-packages/tensorflow_core/python/client/session.py\u001b[0m in \u001b[0;36mrun\u001b[0;34m(self, fetches, feed_dict, options, run_metadata)\u001b[0m\n\u001b[1;32m    954\u001b[0m     \u001b[0;32mtry\u001b[0m\u001b[0;34m:\u001b[0m\u001b[0;34m\u001b[0m\u001b[0;34m\u001b[0m\u001b[0m\n\u001b[1;32m    955\u001b[0m       result = self._run(None, fetches, feed_dict, options_ptr,\n\u001b[0;32m--> 956\u001b[0;31m                          run_metadata_ptr)\n\u001b[0m\u001b[1;32m    957\u001b[0m       \u001b[0;32mif\u001b[0m \u001b[0mrun_metadata\u001b[0m\u001b[0;34m:\u001b[0m\u001b[0;34m\u001b[0m\u001b[0;34m\u001b[0m\u001b[0m\n\u001b[1;32m    958\u001b[0m         \u001b[0mproto_data\u001b[0m \u001b[0;34m=\u001b[0m \u001b[0mtf_session\u001b[0m\u001b[0;34m.\u001b[0m\u001b[0mTF_GetBuffer\u001b[0m\u001b[0;34m(\u001b[0m\u001b[0mrun_metadata_ptr\u001b[0m\u001b[0;34m)\u001b[0m\u001b[0;34m\u001b[0m\u001b[0;34m\u001b[0m\u001b[0m\n",
      "\u001b[0;32m~/.pyenv/versions/3.7.6/envs/tf_model/lib/python3.7/site-packages/tensorflow_core/python/client/session.py\u001b[0m in \u001b[0;36m_run\u001b[0;34m(self, handle, fetches, feed_dict, options, run_metadata)\u001b[0m\n\u001b[1;32m   1178\u001b[0m     \u001b[0;32mif\u001b[0m \u001b[0mfinal_fetches\u001b[0m \u001b[0;32mor\u001b[0m \u001b[0mfinal_targets\u001b[0m \u001b[0;32mor\u001b[0m \u001b[0;34m(\u001b[0m\u001b[0mhandle\u001b[0m \u001b[0;32mand\u001b[0m \u001b[0mfeed_dict_tensor\u001b[0m\u001b[0;34m)\u001b[0m\u001b[0;34m:\u001b[0m\u001b[0;34m\u001b[0m\u001b[0;34m\u001b[0m\u001b[0m\n\u001b[1;32m   1179\u001b[0m       results = self._do_run(handle, final_targets, final_fetches,\n\u001b[0;32m-> 1180\u001b[0;31m                              feed_dict_tensor, options, run_metadata)\n\u001b[0m\u001b[1;32m   1181\u001b[0m     \u001b[0;32melse\u001b[0m\u001b[0;34m:\u001b[0m\u001b[0;34m\u001b[0m\u001b[0;34m\u001b[0m\u001b[0m\n\u001b[1;32m   1182\u001b[0m       \u001b[0mresults\u001b[0m \u001b[0;34m=\u001b[0m \u001b[0;34m[\u001b[0m\u001b[0;34m]\u001b[0m\u001b[0;34m\u001b[0m\u001b[0;34m\u001b[0m\u001b[0m\n",
      "\u001b[0;32m~/.pyenv/versions/3.7.6/envs/tf_model/lib/python3.7/site-packages/tensorflow_core/python/client/session.py\u001b[0m in \u001b[0;36m_do_run\u001b[0;34m(self, handle, target_list, fetch_list, feed_dict, options, run_metadata)\u001b[0m\n\u001b[1;32m   1357\u001b[0m     \u001b[0;32mif\u001b[0m \u001b[0mhandle\u001b[0m \u001b[0;32mis\u001b[0m \u001b[0;32mNone\u001b[0m\u001b[0;34m:\u001b[0m\u001b[0;34m\u001b[0m\u001b[0;34m\u001b[0m\u001b[0m\n\u001b[1;32m   1358\u001b[0m       return self._do_call(_run_fn, feeds, fetches, targets, options,\n\u001b[0;32m-> 1359\u001b[0;31m                            run_metadata)\n\u001b[0m\u001b[1;32m   1360\u001b[0m     \u001b[0;32melse\u001b[0m\u001b[0;34m:\u001b[0m\u001b[0;34m\u001b[0m\u001b[0;34m\u001b[0m\u001b[0m\n\u001b[1;32m   1361\u001b[0m       \u001b[0;32mreturn\u001b[0m \u001b[0mself\u001b[0m\u001b[0;34m.\u001b[0m\u001b[0m_do_call\u001b[0m\u001b[0;34m(\u001b[0m\u001b[0m_prun_fn\u001b[0m\u001b[0;34m,\u001b[0m \u001b[0mhandle\u001b[0m\u001b[0;34m,\u001b[0m \u001b[0mfeeds\u001b[0m\u001b[0;34m,\u001b[0m \u001b[0mfetches\u001b[0m\u001b[0;34m)\u001b[0m\u001b[0;34m\u001b[0m\u001b[0;34m\u001b[0m\u001b[0m\n",
      "\u001b[0;32m~/.pyenv/versions/3.7.6/envs/tf_model/lib/python3.7/site-packages/tensorflow_core/python/client/session.py\u001b[0m in \u001b[0;36m_do_call\u001b[0;34m(self, fn, *args)\u001b[0m\n\u001b[1;32m   1363\u001b[0m   \u001b[0;32mdef\u001b[0m \u001b[0m_do_call\u001b[0m\u001b[0;34m(\u001b[0m\u001b[0mself\u001b[0m\u001b[0;34m,\u001b[0m \u001b[0mfn\u001b[0m\u001b[0;34m,\u001b[0m \u001b[0;34m*\u001b[0m\u001b[0margs\u001b[0m\u001b[0;34m)\u001b[0m\u001b[0;34m:\u001b[0m\u001b[0;34m\u001b[0m\u001b[0;34m\u001b[0m\u001b[0m\n\u001b[1;32m   1364\u001b[0m     \u001b[0;32mtry\u001b[0m\u001b[0;34m:\u001b[0m\u001b[0;34m\u001b[0m\u001b[0;34m\u001b[0m\u001b[0m\n\u001b[0;32m-> 1365\u001b[0;31m       \u001b[0;32mreturn\u001b[0m \u001b[0mfn\u001b[0m\u001b[0;34m(\u001b[0m\u001b[0;34m*\u001b[0m\u001b[0margs\u001b[0m\u001b[0;34m)\u001b[0m\u001b[0;34m\u001b[0m\u001b[0;34m\u001b[0m\u001b[0m\n\u001b[0m\u001b[1;32m   1366\u001b[0m     \u001b[0;32mexcept\u001b[0m \u001b[0merrors\u001b[0m\u001b[0;34m.\u001b[0m\u001b[0mOpError\u001b[0m \u001b[0;32mas\u001b[0m \u001b[0me\u001b[0m\u001b[0;34m:\u001b[0m\u001b[0;34m\u001b[0m\u001b[0;34m\u001b[0m\u001b[0m\n\u001b[1;32m   1367\u001b[0m       \u001b[0mmessage\u001b[0m \u001b[0;34m=\u001b[0m \u001b[0mcompat\u001b[0m\u001b[0;34m.\u001b[0m\u001b[0mas_text\u001b[0m\u001b[0;34m(\u001b[0m\u001b[0me\u001b[0m\u001b[0;34m.\u001b[0m\u001b[0mmessage\u001b[0m\u001b[0;34m)\u001b[0m\u001b[0;34m\u001b[0m\u001b[0;34m\u001b[0m\u001b[0m\n",
      "\u001b[0;32m~/.pyenv/versions/3.7.6/envs/tf_model/lib/python3.7/site-packages/tensorflow_core/python/client/session.py\u001b[0m in \u001b[0;36m_run_fn\u001b[0;34m(feed_dict, fetch_list, target_list, options, run_metadata)\u001b[0m\n\u001b[1;32m   1348\u001b[0m       \u001b[0mself\u001b[0m\u001b[0;34m.\u001b[0m\u001b[0m_extend_graph\u001b[0m\u001b[0;34m(\u001b[0m\u001b[0;34m)\u001b[0m\u001b[0;34m\u001b[0m\u001b[0;34m\u001b[0m\u001b[0m\n\u001b[1;32m   1349\u001b[0m       return self._call_tf_sessionrun(options, feed_dict, fetch_list,\n\u001b[0;32m-> 1350\u001b[0;31m                                       target_list, run_metadata)\n\u001b[0m\u001b[1;32m   1351\u001b[0m \u001b[0;34m\u001b[0m\u001b[0m\n\u001b[1;32m   1352\u001b[0m     \u001b[0;32mdef\u001b[0m \u001b[0m_prun_fn\u001b[0m\u001b[0;34m(\u001b[0m\u001b[0mhandle\u001b[0m\u001b[0;34m,\u001b[0m \u001b[0mfeed_dict\u001b[0m\u001b[0;34m,\u001b[0m \u001b[0mfetch_list\u001b[0m\u001b[0;34m)\u001b[0m\u001b[0;34m:\u001b[0m\u001b[0;34m\u001b[0m\u001b[0;34m\u001b[0m\u001b[0m\n",
      "\u001b[0;32m~/.pyenv/versions/3.7.6/envs/tf_model/lib/python3.7/site-packages/tensorflow_core/python/client/session.py\u001b[0m in \u001b[0;36m_call_tf_sessionrun\u001b[0;34m(self, options, feed_dict, fetch_list, target_list, run_metadata)\u001b[0m\n\u001b[1;32m   1441\u001b[0m     return tf_session.TF_SessionRun_wrapper(self._session, options, feed_dict,\n\u001b[1;32m   1442\u001b[0m                                             \u001b[0mfetch_list\u001b[0m\u001b[0;34m,\u001b[0m \u001b[0mtarget_list\u001b[0m\u001b[0;34m,\u001b[0m\u001b[0;34m\u001b[0m\u001b[0;34m\u001b[0m\u001b[0m\n\u001b[0;32m-> 1443\u001b[0;31m                                             run_metadata)\n\u001b[0m\u001b[1;32m   1444\u001b[0m \u001b[0;34m\u001b[0m\u001b[0m\n\u001b[1;32m   1445\u001b[0m   \u001b[0;32mdef\u001b[0m \u001b[0m_call_tf_sessionprun\u001b[0m\u001b[0;34m(\u001b[0m\u001b[0mself\u001b[0m\u001b[0;34m,\u001b[0m \u001b[0mhandle\u001b[0m\u001b[0;34m,\u001b[0m \u001b[0mfeed_dict\u001b[0m\u001b[0;34m,\u001b[0m \u001b[0mfetch_list\u001b[0m\u001b[0;34m)\u001b[0m\u001b[0;34m:\u001b[0m\u001b[0;34m\u001b[0m\u001b[0;34m\u001b[0m\u001b[0m\n",
      "\u001b[0;31mKeyboardInterrupt\u001b[0m: "
     ]
    }
   ],
   "source": [
    "data = {'step': [],\n",
    "\t'loss': [],\n",
    "    'time': [],\n",
    "\t'acc': [],\n",
    "    'RAM': [],\n",
    "\t'CPU': []}\n",
    "df = pd.DataFrame(data)\n",
    "\n",
    "# Start training\n",
    "with tf.Session(server.target) as sess:  # <----- IMPORTANT: Pass the server target to the session definition\n",
    "    start_time = time.time()\n",
    "\n",
    "    \n",
    "    # Run the initializer\n",
    "    sess.run(init)\n",
    "    writer = tf.summary.FileWriter(\"./logs/graph\", sess.graph)\n",
    "    \n",
    "    for step in range(1000):\n",
    "        batch_x, batch_y = mnist.train.next_batch(batch_size)\n",
    "        \n",
    "        # Run optimization op (backprop)\n",
    "        sess.run(train_op, feed_dict={X: batch_x, Y: batch_y})\n",
    "       # print(type(t_s))\n",
    "        if step % display_step == 0 or step == 1:\n",
    "            # Calculate batch loss and accuracy\n",
    "            loss, acc = sess.run([loss_op, accuracy], feed_dict={X: batch_x, Y : batch_y})\n",
    "            \n",
    "            new_row = data = {'step': step, 'loss': loss,'time':time.time()-start_time,'acc': acc, 'RAM': psutil.virtual_memory().percent, 'CPU': psutil.cpu_percent()}\n",
    "            #append row to the dataframe\n",
    "            df = df.append(new_row, ignore_index=True)\n",
    "\n",
    "            print(\"Step \" + str(step) + \", Minibatch Loss= \" + \"{:.4f}\".format(loss) + \", Training Accuracy= \" + \"{:.3f}\".format(acc))\n",
    "    # Get test set accuracy\n",
    "    test_acc= sess.run(accuracy, feed_dict={X: mnist.test.images[:256],Y: mnist.test.labels[:256]})\n",
    "    print(\"Testing Accuracy: \" + str(test_acc))\n",
    "    print(df)\n",
    "    "
   ]
  },
  {
   "cell_type": "code",
   "execution_count": 14,
   "metadata": {},
   "outputs": [],
   "source": [
    "df.to_csv (r'/home/joking/Studys/6_SOSE2020/ComplexITSystems/Code/exampleServer/data/2_workers_1000_batches.csv', index = False, header=True)"
   ]
  },
  {
   "cell_type": "code",
   "execution_count": null,
   "metadata": {},
   "outputs": [],
   "source": [
    "$tensorboard --logdir=logs"
   ]
  },
  {
   "cell_type": "code",
   "execution_count": null,
   "metadata": {},
   "outputs": [],
   "source": []
  },
  {
   "cell_type": "code",
   "execution_count": null,
   "metadata": {},
   "outputs": [],
   "source": []
  },
  {
   "cell_type": "code",
   "execution_count": null,
   "metadata": {},
   "outputs": [],
   "source": []
  },
  {
   "cell_type": "code",
   "execution_count": null,
   "metadata": {},
   "outputs": [],
   "source": []
  },
  {
   "cell_type": "code",
   "execution_count": null,
   "metadata": {},
   "outputs": [],
   "source": []
  }
 ],
 "metadata": {
  "kernelspec": {
   "display_name": "Python 3",
   "language": "python",
   "name": "python3"
  },
  "language_info": {
   "codemirror_mode": {
    "name": "ipython",
    "version": 3
   },
   "file_extension": ".py",
   "mimetype": "text/x-python",
   "name": "python",
   "nbconvert_exporter": "python",
   "pygments_lexer": "ipython3",
   "version": "3.7.6"
  }
 },
 "nbformat": 4,
 "nbformat_minor": 2
}
